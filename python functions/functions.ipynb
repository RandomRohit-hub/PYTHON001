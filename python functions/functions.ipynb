{
 "cells": [
  {
   "cell_type": "code",
   "execution_count": null,
   "metadata": {},
   "outputs": [
    {
     "ename": "IndentationError",
     "evalue": "unindent does not match any outer indentation level (<string>, line 3)",
     "output_type": "error",
     "traceback": [
      "  \u001b[36mFile \u001b[39m\u001b[32m<string>:3\u001b[39m\n\u001b[31m    \u001b[39m\u001b[31mreturn expressions\u001b[39m\n                      ^\n\u001b[31mIndentationError\u001b[39m\u001b[31m:\u001b[39m unindent does not match any outer indentation level\n"
     ]
    }
   ],
   "source": [
    "def functname(parameters):\n",
    "  '''docstrings'''\n",
    " return expressions"
   ]
  },
  {
   "cell_type": "code",
   "execution_count": 3,
   "metadata": {},
   "outputs": [
    {
     "name": "stdout",
     "output_type": "stream",
     "text": [
      "even\n"
     ]
    }
   ],
   "source": [
    "num=24\n",
    "if num%2==0:\n",
    "    print('even')\n",
    "else:\n",
    "    print('odd')"
   ]
  },
  {
   "cell_type": "code",
   "execution_count": 4,
   "metadata": {},
   "outputs": [],
   "source": [
    "def even_or_odd(num):\n",
    "    '''this funct find even or odd'''\n",
    "    if num%2==0:\n",
    "        print('num is even')\n",
    "    else:\n",
    "        print('num is odd')"
   ]
  },
  {
   "cell_type": "code",
   "execution_count": 5,
   "metadata": {},
   "outputs": [
    {
     "name": "stdout",
     "output_type": "stream",
     "text": [
      "num is odd\n"
     ]
    }
   ],
   "source": [
    "even_or_odd(23)"
   ]
  },
  {
   "cell_type": "code",
   "execution_count": 11,
   "metadata": {},
   "outputs": [
    {
     "name": "stdout",
     "output_type": "stream",
     "text": [
      "9\n"
     ]
    }
   ],
   "source": [
    "def add(a,b):\n",
    "    # c=a+b\n",
    "    # return c\n",
    "    return a+b\n",
    "\n",
    "result = add(3,6)\n",
    "print(result)"
   ]
  },
  {
   "cell_type": "code",
   "execution_count": 19,
   "metadata": {},
   "outputs": [
    {
     "name": "stdout",
     "output_type": "stream",
     "text": [
      "hey osama,how are you\n"
     ]
    }
   ],
   "source": [
    "def greet(name):\n",
    "    print(f\"hey {name},how are you\")\n",
    "\n",
    "greet(\"osama\")\n",
    "\n",
    "    "
   ]
  },
  {
   "cell_type": "code",
   "execution_count": null,
   "metadata": {},
   "outputs": [],
   "source": [
    "### POSITIONAL ARGUMENTS    \n",
    "def print_num(*num):\n",
    "    for number in num:\n",
    "        print(number)"
   ]
  },
  {
   "cell_type": "code",
   "execution_count": 22,
   "metadata": {},
   "outputs": [
    {
     "name": "stdout",
     "output_type": "stream",
     "text": [
      "1\n",
      "2\n",
      "3\n",
      "4\n",
      "5\n",
      "6\n",
      "krsna\n"
     ]
    }
   ],
   "source": [
    "print_num(1,2,3,4,5,6,'krsna')"
   ]
  },
  {
   "cell_type": "code",
   "execution_count": 36,
   "metadata": {},
   "outputs": [],
   "source": [
    "def print_detail(**kwargs):\n",
    "    for key, value in kwargs.items():\n",
    "        print(f\"{key}: {value}\")\n",
    "\n",
    "\n"
   ]
  },
  {
   "cell_type": "code",
   "execution_count": 37,
   "metadata": {},
   "outputs": [
    {
     "name": "stdout",
     "output_type": "stream",
     "text": [
      "name: Osama\n",
      "age: 30\n",
      "city: Tokyo\n"
     ]
    }
   ],
   "source": [
    "print_detail(name=\"Osama\", age=30, city=\"Tokyo\")"
   ]
  },
  {
   "cell_type": "code",
   "execution_count": 39,
   "metadata": {},
   "outputs": [],
   "source": [
    "def print_detail(*num, **k):\n",
    "    for number in num:\n",
    "        print(f\"positional arguments :{number}\")\n",
    "    \n",
    "    for key, value in k.items():\n",
    "        print(f\"{key}: {value}\")\n",
    "\n",
    "\n"
   ]
  },
  {
   "cell_type": "code",
   "execution_count": 40,
   "metadata": {},
   "outputs": [
    {
     "name": "stdout",
     "output_type": "stream",
     "text": [
      "positional arguments :1\n",
      "positional arguments :2\n",
      "positional arguments :3\n",
      "a: 10\n",
      "b: 20\n"
     ]
    }
   ],
   "source": [
    "print_detail(1, 2, 3, a=10, b=20)"
   ]
  },
  {
   "cell_type": "code",
   "execution_count": 41,
   "metadata": {},
   "outputs": [],
   "source": [
    "## RETURN STATMENT\n",
    "\n",
    "\n",
    "def mult(a,b):\n",
    "    return a * b"
   ]
  },
  {
   "cell_type": "code",
   "execution_count": 42,
   "metadata": {},
   "outputs": [
    {
     "data": {
      "text/plain": [
       "4"
      ]
     },
     "execution_count": 42,
     "metadata": {},
     "output_type": "execute_result"
    }
   ],
   "source": [
    "mult(2,2)"
   ]
  },
  {
   "cell_type": "code",
   "execution_count": 43,
   "metadata": {},
   "outputs": [],
   "source": [
    "def convert(temp,unit):\n",
    "    if unit =='c':\n",
    "        return 9/5+32\n",
    "    else:\n",
    "        return (temp-32)*5/9"
   ]
  },
  {
   "cell_type": "code",
   "execution_count": 45,
   "metadata": {},
   "outputs": [
    {
     "data": {
      "text/plain": [
       "33.8"
      ]
     },
     "execution_count": 45,
     "metadata": {},
     "output_type": "execute_result"
    }
   ],
   "source": [
    "convert(32,'c')"
   ]
  },
  {
   "cell_type": "code",
   "execution_count": 52,
   "metadata": {},
   "outputs": [],
   "source": [
    "def strongpass(password):\n",
    "    if len(password) < 8:\n",
    "        print(\"Length check failed\")\n",
    "        return False\n",
    "    if not any(char.isdigit() for char in password):\n",
    "        print(\"Digit check failed\")\n",
    "        return False\n",
    "    if not any(char.islower() for char in password):\n",
    "        print(\"Lowercase check failed\")\n",
    "        return False\n",
    "    if not any(char.isupper() for char in password):\n",
    "        print(\"Uppercase check failed\")\n",
    "        return False\n",
    "    if not any(char in \"@#$&*!\" for char in password):\n",
    "        print(\"Special character check failed\")\n",
    "        return False\n",
    "    return True\n"
   ]
  },
  {
   "cell_type": "code",
   "execution_count": 53,
   "metadata": {},
   "outputs": [
    {
     "name": "stdout",
     "output_type": "stream",
     "text": [
      "Digit check failed\n",
      "False\n",
      "True\n"
     ]
    }
   ],
   "source": [
    "print(strongpass('asrugnru'))\n",
    "print(strongpass('!AsdwPPP0%'))"
   ]
  },
  {
   "cell_type": "code",
   "execution_count": 54,
   "metadata": {},
   "outputs": [
    {
     "name": "stdout",
     "output_type": "stream",
     "text": [
      "{'hello': 2, 'world!': 1, 'this': 1, 'is': 1, 'a': 1, 'test.': 1, 'again,': 1, 'world.': 1}\n"
     ]
    }
   ],
   "source": [
    "def freq_word(file_path):\n",
    "    word_count = {}\n",
    "    with open(file_path, 'r') as file:\n",
    "        for line in file:\n",
    "            words = line.split()\n",
    "            for word in words:\n",
    "                word = word.lower().strip()\n",
    "                word_count[word] = word_count.get(word, 0) + 1\n",
    "\n",
    "    return word_count\n",
    "\n",
    "file_path = \"feqrques.txt\"\n",
    " \n",
    "word_freq=freq_word(file_path)\n",
    "print(word_freq)"
   ]
  },
  {
   "cell_type": "code",
   "execution_count": null,
   "metadata": {},
   "outputs": [],
   "source": []
  }
 ],
 "metadata": {
  "kernelspec": {
   "display_name": "Python 3",
   "language": "python",
   "name": "python3"
  },
  "language_info": {
   "codemirror_mode": {
    "name": "ipython",
    "version": 3
   },
   "file_extension": ".py",
   "mimetype": "text/x-python",
   "name": "python",
   "nbconvert_exporter": "python",
   "pygments_lexer": "ipython3",
   "version": "3.13.2"
  }
 },
 "nbformat": 4,
 "nbformat_minor": 2
}
