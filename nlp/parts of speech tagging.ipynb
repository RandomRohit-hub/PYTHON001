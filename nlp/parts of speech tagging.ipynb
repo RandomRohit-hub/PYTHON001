{
 "cells": [
  {
   "cell_type": "code",
   "execution_count": 11,
   "metadata": {},
   "outputs": [],
   "source": [
    "paragraph='''Empower Villages \n",
    "Friends, I recall my visit to Nagaland on 26th October 2002, soon after my assuming \n",
    "office as President. It was a unique experience for me at Khuzama village to meet tribal \n",
    "village council members and discuss with them the village progress and the dream of \n",
    "village citizens. I was very happy to see the empowered village council functioning with \n",
    "financial powers and taking decisions. I saw a prosperous village with fruits and \n",
    "vegetables production. However, there is a need for providing physical connectivity in \n",
    "Nagaland through quality roads for enabling faster movement of products from villages \n",
    "to the market. That meeting gave me a powerful message about the transformation which \n",
    "can take place to the 600,000 villages of India, if all the villages are empowered to deal \n",
    "with their development and are well connected among themselves and with the urban \n",
    "societies. \n",
    "Mobilizing rural core competence for competitiveness \n",
    "Now I would like to talk about the initiative of Periyar Maniammai College of \n",
    "Technology for Women, Vallam, Tanjore of Providing Urban Amenities in Rural Areas \n",
    "(PURA) complex involving 65 villages with a population of 3 lakhs. This includes \n",
    "provision of three connectivities - physical, electronic and knowledge - leading to \n",
    "economic connectivity. Periyar PURA has health care centers, primary to post graduate \n",
    "level education and vocational training centers. This has resulted in large-scale \n",
    "employment generation and creation of number of entrepreneurs with the active support \n",
    "of 1000 self-help groups. Two hundred acres of waste land has been developed into a \n",
    "cultivable land. The villagers are busy in cultivation, planting Jatropha, herbal and \n",
    "medicinal plants, power generation using bio-mass, food processing and above all \n",
    "running marketing centers. It provides a sustainable economic development model for the \n",
    "whole region. \n",
    "During the last eight months, people of Periyar PURA villages technologically supported \n",
    "by Periyar Maniammai College of Engineering for Women have worked with experts \n",
    "from Japan External Trade Organisation (JETRO) on various products, for which core \n",
    "competence and raw material are available in Thanjavur district. They developed \n",
    "internationally competitive prototypes for 55 life style products with support of JETRO \n",
    "specialists and feedback from exhibitions at Delhi and Tokyo. This co-operative venture \n",
    "has enhanced the innovative ability of the people of all the 65 villages enabling them to \n",
    "develop and produce internationally acceptable products. I have seen similar type of \n",
    "PURA being established in many states. The whole country needs 7000 PURA to \n",
    "bridging the rural  urban divide'''''"
   ]
  },
  {
   "cell_type": "code",
   "execution_count": 12,
   "metadata": {},
   "outputs": [
    {
     "name": "stderr",
     "output_type": "stream",
     "text": [
      "[nltk_data] Downloading package punkt to\n",
      "[nltk_data]     C:\\Users\\fakee\\AppData\\Roaming\\nltk_data...\n",
      "[nltk_data]   Package punkt is already up-to-date!\n"
     ]
    }
   ],
   "source": [
    "import nltk\n",
    "from nltk.tokenize import sent_tokenize\n",
    "\n",
    "# Download 'punkt' tokenizer if not already downloaded\n",
    "nltk.download('punkt')\n",
    "\n",
    "\n",
    "\n",
    "\n",
    "# Tokenizing the paragraph into sentences\n",
    "sent = sent_tokenize(paragraph)\n",
    "\n",
    "\n"
   ]
  },
  {
   "cell_type": "code",
   "execution_count": 13,
   "metadata": {},
   "outputs": [
    {
     "data": {
      "text/plain": [
       "['Empower Villages \\nFriends, I recall my visit to Nagaland on 26th October 2002, soon after my assuming \\noffice as President.',\n",
       " 'It was a unique experience for me at Khuzama village to meet tribal \\nvillage council members and discuss with them the village progress and the dream of \\nvillage citizens.',\n",
       " 'I was very happy to see the empowered village council functioning with \\nfinancial powers and taking decisions.',\n",
       " 'I saw a prosperous village with fruits and \\nvegetables production.',\n",
       " 'However, there is a need for providing physical connectivity in \\nNagaland through quality roads for enabling faster movement of products from villages \\nto the market.',\n",
       " 'That meeting gave me a powerful message about the transformation which \\ncan take place to the 600,000 villages of India, if all the villages are empowered to deal \\nwith their development and are well connected among themselves and with the urban \\nsocieties.',\n",
       " 'Mobilizing rural core competence for competitiveness \\nNow I would like to talk about the initiative of Periyar Maniammai College of \\nTechnology for Women, Vallam, Tanjore of Providing Urban Amenities in Rural Areas \\n(PURA) complex involving 65 villages with a population of 3 lakhs.',\n",
       " 'This includes \\nprovision of three connectivities - physical, electronic and knowledge - leading to \\neconomic connectivity.',\n",
       " 'Periyar PURA has health care centers, primary to post graduate \\nlevel education and vocational training centers.',\n",
       " 'This has resulted in large-scale \\nemployment generation and creation of number of entrepreneurs with the active support \\nof 1000 self-help groups.',\n",
       " 'Two hundred acres of waste land has been developed into a \\ncultivable land.',\n",
       " 'The villagers are busy in cultivation, planting Jatropha, herbal and \\nmedicinal plants, power generation using bio-mass, food processing and above all \\nrunning marketing centers.',\n",
       " 'It provides a sustainable economic development model for the \\nwhole region.',\n",
       " 'During the last eight months, people of Periyar PURA villages technologically supported \\nby Periyar Maniammai College of Engineering for Women have worked with experts \\nfrom Japan External Trade Organisation (JETRO) on various products, for which core \\ncompetence and raw material are available in Thanjavur district.',\n",
       " 'They developed \\ninternationally competitive prototypes for 55 life style products with support of JETRO \\nspecialists and feedback from exhibitions at Delhi and Tokyo.',\n",
       " 'This co-operative venture \\nhas enhanced the innovative ability of the people of all the 65 villages enabling them to \\ndevelop and produce internationally acceptable products.',\n",
       " 'I have seen similar type of \\nPURA being established in many states.',\n",
       " 'The whole country needs 7000 PURA to \\nbridging the rural  urban divide']"
      ]
     },
     "execution_count": 13,
     "metadata": {},
     "output_type": "execute_result"
    }
   ],
   "source": [
    "sent"
   ]
  },
  {
   "cell_type": "code",
   "execution_count": 15,
   "metadata": {},
   "outputs": [
    {
     "name": "stdout",
     "output_type": "stream",
     "text": [
      "[('The', 'DT'), ('whole', 'JJ'), ('country', 'NN'), ('needs', 'VBZ'), ('7000', 'CD'), ('PURA', 'NNP'), ('bridging', 'VBG'), ('rural', 'JJ'), ('urban', 'JJ'), ('divide', 'NN')]\n"
     ]
    }
   ],
   "source": [
    "## we will find out the pos tag\n",
    "\n",
    "from nltk.corpus import stopwords\n",
    "sentences=nltk.sent_tokenize(paragraph)\n",
    "for i in range (len(sent)):\n",
    "\n",
    " w= nltk.word_tokenize(sent[i])\n",
    "\n",
    "w=[word for word in w if word not in set(stopwords.words('english'))]\n",
    "##sent[i]-' '.join(w)  ### convertion list of words into sentences\n",
    "posttag=nltk.pos_tag(w)\n",
    "print(posttag)"
   ]
  },
  {
   "cell_type": "code",
   "execution_count": 16,
   "metadata": {},
   "outputs": [
    {
     "data": {
      "text/plain": [
       "['distruction',\n",
       " 'is',\n",
       " 'the',\n",
       " 'necessaty',\n",
       " 'unless',\n",
       " 'you',\n",
       " 'distroy',\n",
       " 'the',\n",
       " 'weed',\n",
       " 'beauth',\n",
       " \"can't\",\n",
       " 'grow']"
      ]
     },
     "execution_count": 16,
     "metadata": {},
     "output_type": "execute_result"
    }
   ],
   "source": [
    "'''distruction is the necessaty unless you distroy the weed beauth can't grow '''.split()"
   ]
  },
  {
   "cell_type": "code",
   "execution_count": 22,
   "metadata": {},
   "outputs": [
    {
     "name": "stdout",
     "output_type": "stream",
     "text": [
      "[('destruction', 'NN'), ('is', 'VBZ'), ('the', 'DT'), ('necessity', 'NN'), ('unless', 'IN'), ('you', 'PRP'), ('destroy', 'VBP'), ('the', 'DT'), ('weed', 'NN'), ('beauty', 'NN'), (\"can't\", 'NN'), ('grow', 'VB')]\n"
     ]
    }
   ],
   "source": [
    "\n",
    "\n",
    "text = '''destruction is the necessity unless you destroy the weed beauty can't grow'''.split()\n",
    "print(nltk.pos_tag(text))\n"
   ]
  },
  {
   "cell_type": "code",
   "execution_count": null,
   "metadata": {},
   "outputs": [],
   "source": []
  }
 ],
 "metadata": {
  "kernelspec": {
   "display_name": "Python 3",
   "language": "python",
   "name": "python3"
  },
  "language_info": {
   "codemirror_mode": {
    "name": "ipython",
    "version": 3
   },
   "file_extension": ".py",
   "mimetype": "text/x-python",
   "name": "python",
   "nbconvert_exporter": "python",
   "pygments_lexer": "ipython3",
   "version": "3.13.2"
  }
 },
 "nbformat": 4,
 "nbformat_minor": 2
}
