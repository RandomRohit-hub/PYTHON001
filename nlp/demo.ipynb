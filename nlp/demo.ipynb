{
 "cells": [
  {
   "cell_type": "code",
   "execution_count": 3,
   "metadata": {},
   "outputs": [
    {
     "name": "stdout",
     "output_type": "stream",
     "text": [
      "Tokens: ['NLTK', 'is', 'a', 'powerful', 'tool', 'for', 'text', 'analysis', '.', 'It', 'helps', 'with', 'tokenization', ',', 'stemming', ',', 'and', 'more', '.']\n",
      "\n",
      "Word Frequency:\n",
      "NLTK: 1\n",
      "is: 1\n",
      "a: 1\n",
      "powerful: 1\n",
      "tool: 1\n",
      "for: 1\n",
      "text: 1\n",
      "analysis: 1\n",
      ".: 2\n",
      "It: 1\n",
      "helps: 1\n",
      "with: 1\n",
      "tokenization: 1\n",
      ",: 2\n",
      "stemming: 1\n",
      "and: 1\n",
      "more: 1\n"
     ]
    },
    {
     "name": "stderr",
     "output_type": "stream",
     "text": [
      "[nltk_data] Downloading package punkt to\n",
      "[nltk_data]     C:\\Users\\fakee\\AppData\\Roaming\\nltk_data...\n",
      "[nltk_data]   Package punkt is already up-to-date!\n"
     ]
    }
   ],
   "source": [
    "import nltk\n",
    "from nltk.tokenize import word_tokenize\n",
    "from nltk.probability import FreqDist\n",
    "nltk.download('punkt')\n",
    "\n",
    "# Sample text\n",
    "text = \"NLTK is a powerful tool for text analysis. It helps with tokenization, stemming, and more.\"\n",
    "\n",
    "# Tokenization\n",
    "tokens = word_tokenize(text)\n",
    "\n",
    "# Frequency Distribution\n",
    "freq_dist = FreqDist(tokens)\n",
    "\n",
    "# Display results\n",
    "print(\"Tokens:\", tokens)\n",
    "print(\"\\nWord Frequency:\")\n",
    "for word, freq in freq_dist.items():\n",
    "    print(f\"{word}: {freq}\")\n"
   ]
  },
  {
   "cell_type": "code",
   "execution_count": null,
   "metadata": {},
   "outputs": [
    {
     "name": "stdout",
     "output_type": "stream",
     "text": [
      "Sentences: ['NLTK is a powerful tool for text analysis.', 'It helps with tokenization, stemming, and more.']\n",
      "Words: ['NLTK', 'is', 'a', 'powerful', 'tool', 'for', 'text', 'analysis', '.', 'It', 'helps', 'with', 'tokenization', ',', 'stemming', ',', 'and', 'more', '.']\n"
     ]
    }
   ],
   "source": [
    "import nltk\n",
    "from nltk.tokenize import word_tokenize, sent_tokenize\n",
    "\n",
    "\n",
    "# Sample text\n",
    "text = \"NLTK is a powerful tool for text analysis. It helps with tokenization, stemming, and more.\"\n",
    "\n",
    "# Sentence Tokenization\n",
    "sentences = sent_tokenize(text).tokenize\n",
    "print(\"Sentences:\", sentences)\n",
    "\n",
    "# Word Tokenization\n",
    "words = word_tokenize(text)\n",
    "print(\"Words:\", words)"
   ]
  },
  {
   "cell_type": "code",
   "execution_count": 1,
   "metadata": {},
   "outputs": [],
   "source": [
    "corpus=\"\"\"hello,welcome to course osama this side please do watch entire course ! to become piroo\"\"\""
   ]
  },
  {
   "cell_type": "code",
   "execution_count": 2,
   "metadata": {},
   "outputs": [
    {
     "name": "stdout",
     "output_type": "stream",
     "text": [
      "hello,welcome to course osama this side please do watch entire course ! to become piroo\n"
     ]
    }
   ],
   "source": [
    "print(corpus)"
   ]
  },
  {
   "cell_type": "code",
   "execution_count": 3,
   "metadata": {},
   "outputs": [],
   "source": [
    "## sentence to para\n",
    "\n",
    "from nltk.tokenize import sent_tokenize\n",
    "\n"
   ]
  },
  {
   "cell_type": "code",
   "execution_count": 6,
   "metadata": {},
   "outputs": [],
   "source": [
    "doc=sent_tokenize(corpus)"
   ]
  },
  {
   "cell_type": "code",
   "execution_count": 7,
   "metadata": {},
   "outputs": [
    {
     "data": {
      "text/plain": [
       "list"
      ]
     },
     "execution_count": 7,
     "metadata": {},
     "output_type": "execute_result"
    }
   ],
   "source": [
    "type(doc)"
   ]
  },
  {
   "cell_type": "code",
   "execution_count": 8,
   "metadata": {},
   "outputs": [
    {
     "name": "stdout",
     "output_type": "stream",
     "text": [
      "hello,welcome to course osama this side please do watch entire course !\n",
      "to become piroo\n"
     ]
    }
   ],
   "source": [
    "for sentence in doc:\n",
    "    print(sentence)"
   ]
  },
  {
   "cell_type": "code",
   "execution_count": 13,
   "metadata": {},
   "outputs": [],
   "source": [
    "## sent to words\n",
    "## para to words\n",
    "\n",
    "from nltk.tokenize import word_tokenize\n"
   ]
  },
  {
   "cell_type": "code",
   "execution_count": 14,
   "metadata": {},
   "outputs": [
    {
     "data": {
      "text/plain": [
       "['hello',\n",
       " ',',\n",
       " 'welcome',\n",
       " 'to',\n",
       " 'course',\n",
       " 'osama',\n",
       " 'this',\n",
       " 'side',\n",
       " 'please',\n",
       " 'do',\n",
       " 'watch',\n",
       " 'entire',\n",
       " 'course',\n",
       " '!',\n",
       " 'to',\n",
       " 'become',\n",
       " 'piroo']"
      ]
     },
     "execution_count": 14,
     "metadata": {},
     "output_type": "execute_result"
    }
   ],
   "source": [
    "word_tokenize(corpus)"
   ]
  },
  {
   "cell_type": "code",
   "execution_count": 15,
   "metadata": {},
   "outputs": [
    {
     "name": "stdout",
     "output_type": "stream",
     "text": [
      "['hello', ',', 'welcome', 'to', 'course', 'osama', 'this', 'side', 'please', 'do', 'watch', 'entire', 'course', '!']\n",
      "['to', 'become', 'piroo']\n"
     ]
    }
   ],
   "source": [
    "for sentence in doc:\n",
    " print(word_tokenize(sentence))"
   ]
  },
  {
   "cell_type": "code",
   "execution_count": 16,
   "metadata": {},
   "outputs": [
    {
     "data": {
      "text/plain": [
       "['hello',\n",
       " ',',\n",
       " 'welcome',\n",
       " 'to',\n",
       " 'course',\n",
       " 'osama',\n",
       " 'this',\n",
       " 'side',\n",
       " 'please',\n",
       " 'do',\n",
       " 'watch',\n",
       " 'entire',\n",
       " 'course',\n",
       " '!',\n",
       " 'to',\n",
       " 'become',\n",
       " 'piroo']"
      ]
     },
     "execution_count": 16,
     "metadata": {},
     "output_type": "execute_result"
    }
   ],
   "source": [
    "from nltk.tokenize import wordpunct_tokenize\n",
    "wordpunct_tokenize(corpus)"
   ]
  },
  {
   "cell_type": "code",
   "execution_count": null,
   "metadata": {},
   "outputs": [],
   "source": []
  }
 ],
 "metadata": {
  "kernelspec": {
   "display_name": "Python 3",
   "language": "python",
   "name": "python3"
  },
  "language_info": {
   "codemirror_mode": {
    "name": "ipython",
    "version": 3
   },
   "file_extension": ".py",
   "mimetype": "text/x-python",
   "name": "python",
   "nbconvert_exporter": "python",
   "pygments_lexer": "ipython3",
   "version": "3.13.2"
  }
 },
 "nbformat": 4,
 "nbformat_minor": 2
}
