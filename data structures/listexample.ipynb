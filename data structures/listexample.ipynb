{
 "cells": [
  {
   "cell_type": "code",
   "execution_count": 3,
   "metadata": {},
   "outputs": [
    {
     "name": "stdout",
     "output_type": "stream",
     "text": [
      "don't forget to pay bills\n",
      "['clean house', 'pay bills', 'teach', 'swim']\n",
      "- clean house\n",
      "- pay bills\n",
      "- teach\n",
      "- swim\n"
     ]
    }
   ],
   "source": [
    "to_do_list = [\"buy groceries\", \"clean house\", \"pay bills\"]\n",
    "\n",
    "to_do_list.append(\"teach\")\n",
    "to_do_list.append(\"swim\")\n",
    "\n",
    "to_do_list.remove(\"buy groceries\")\n",
    "\n",
    "if 'pay bills' in to_do_list:\n",
    "    print(\"don't forget to pay bills\")\n",
    "\n",
    "print(to_do_list)\n",
    "for task in to_do_list:\n",
    "    print(f'- {task}')\n"
   ]
  },
  {
   "cell_type": "code",
   "execution_count": 4,
   "metadata": {},
   "outputs": [
    {
     "name": "stdout",
     "output_type": "stream",
     "text": [
      "average grade : 96.0\n",
      "highest grade : 99\n",
      "lowest grade : 91\n"
     ]
    }
   ],
   "source": [
    "grade=[99,98,97,96,91]\n",
    "\n",
    "grade.append(95)\n",
    "\n",
    "avg=sum(grade)/len(grade)\n",
    "\n",
    "print(\"average grade :\",avg)\n",
    "\n",
    "highest=max(grade)\n",
    "lowest=min(grade)\n",
    "\n",
    "print(\"highest grade :\",highest)\n",
    "print(\"lowest grade :\",lowest)"
   ]
  },
  {
   "cell_type": "code",
   "execution_count": 11,
   "metadata": {},
   "outputs": [
    {
     "name": "stdout",
     "output_type": "stream",
     "text": [
      "rice is in the inventory\n",
      "printing items in inventory\n",
      "beer\n",
      "cake\n",
      "rice\n",
      "strawberry\n"
     ]
    }
   ],
   "source": [
    "inv = [\"apple\", \"beer\", \"cake\", \"rice\"]\n",
    "\n",
    "inv.append(\"strawberry\")\n",
    "\n",
    "inv.remove(\"apple\")\n",
    "\n",
    "item = \"rice\"\n",
    "if item in inv:\n",
    "    print(item + \" is in the inventory\")\n",
    "else:\n",
    "    print(item + \" is not in the inventory\")\n",
    "\n",
    "print(\"printing items in inventory\")\n",
    "for item in inv:\n",
    "    print(item)\n"
   ]
  },
  {
   "cell_type": "code",
   "execution_count": 16,
   "metadata": {},
   "outputs": [
    {
     "name": "stdout",
     "output_type": "stream",
     "text": [
      "positive feedback: {positive_feedback_sum}\n",
      "printing user feedbacks\n",
      "great work\n",
      "nice survice\n",
      "great work\n",
      "could be better\n",
      "excellent work\n",
      "bad work \n",
      "bad work\n"
     ]
    }
   ],
   "source": [
    "feedback=[\"great work\",\"nice survice\",'great work','could be better','excellent work','bad work ']\n",
    "\n",
    "feedback.append('bad work')\n",
    "\n",
    "positive_feedback_sum = sum(1 for comment in feedback if 'great' in comment.lower() or 'excellent' in comment.lower())\n",
    "\n",
    "print('positive feedback: {positive_feedback_sum}')\n",
    "\n",
    "print('printing user feedbacks')\n",
    "for comment in feedback:\n",
    "    print(comment)\n",
    "\n"
   ]
  },
  {
   "cell_type": "code",
   "execution_count": null,
   "metadata": {},
   "outputs": [],
   "source": []
  }
 ],
 "metadata": {
  "kernelspec": {
   "display_name": "Python 3",
   "language": "python",
   "name": "python3"
  },
  "language_info": {
   "codemirror_mode": {
    "name": "ipython",
    "version": 3
   },
   "file_extension": ".py",
   "mimetype": "text/x-python",
   "name": "python",
   "nbconvert_exporter": "python",
   "pygments_lexer": "ipython3",
   "version": "3.13.2"
  }
 },
 "nbformat": 4,
 "nbformat_minor": 2
}
