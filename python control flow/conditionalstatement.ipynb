{
 "cells": [
  {
   "cell_type": "code",
   "execution_count": null,
   "metadata": {},
   "outputs": [
    {
     "name": "stdout",
     "output_type": "stream",
     "text": [
      "You are a minor\n"
     ]
    }
   ],
   "source": [
    "age=2\n",
    "\n",
    "if age>=18:\n",
    " print(\"You are an adult\")\n",
    "\n",
    "else:\n",
    "    print(\"You are a minor\")\n"
   ]
  },
  {
   "cell_type": "code",
   "execution_count": 6,
   "metadata": {},
   "outputs": [
    {
     "name": "stdout",
     "output_type": "stream",
     "text": [
      "number is positive\n",
      "odd\n"
     ]
    }
   ],
   "source": [
    "\n",
    "num = int(input(\"enter number\"))\n",
    "\n",
    "if num > 0:\n",
    "    print(\"number is positive\")\n",
    "    \n",
    "    if num % 2 == 0:\n",
    "        print(\"even\")\n",
    "    else:\n",
    "        print(\"odd\")\n",
    "else:\n",
    "    print(\"negative\")\n",
    "\n"
   ]
  },
  {
   "cell_type": "code",
   "execution_count": 9,
   "metadata": {},
   "outputs": [
    {
     "name": "stdout",
     "output_type": "stream",
     "text": [
      "2021 is not a leap year\n"
     ]
    }
   ],
   "source": [
    "num=int(input(\"enter the year\"))\n",
    "\n",
    "if num%4==0:\n",
    "    if num%100==0:\n",
    "        if num%400==0:\n",
    "            print(num ,\"leap year\")\n",
    "\n",
    "    else:\n",
    "        print(num,\"is a leap year\")\n",
    "\n",
    "else:\n",
    "    print(num,\"is not a leap year\")                "
   ]
  },
  {
   "cell_type": "code",
   "execution_count": 10,
   "metadata": {},
   "outputs": [
    {
     "name": "stdout",
     "output_type": "stream",
     "text": [
      "0\n",
      "1\n",
      "2\n",
      "3\n",
      "4\n"
     ]
    }
   ],
   "source": [
    "for i in range(5):\n",
    "    print(i)"
   ]
  },
  {
   "cell_type": "code",
   "execution_count": 13,
   "metadata": {},
   "outputs": [
    {
     "name": "stdout",
     "output_type": "stream",
     "text": [
      "1\n",
      "3\n",
      "5\n",
      "7\n",
      "9\n"
     ]
    }
   ],
   "source": [
    "for i in range(1,10,2):\n",
    " print(i)"
   ]
  },
  {
   "cell_type": "code",
   "execution_count": 16,
   "metadata": {},
   "outputs": [
    {
     "name": "stdout",
     "output_type": "stream",
     "text": [
      "10\n",
      "9\n",
      "8\n",
      "7\n",
      "6\n",
      "5\n",
      "4\n",
      "3\n",
      "2\n"
     ]
    }
   ],
   "source": [
    "for i in range(10,1,-1):\n",
    " print(i)"
   ]
  },
  {
   "cell_type": "code",
   "execution_count": 17,
   "metadata": {},
   "outputs": [
    {
     "name": "stdout",
     "output_type": "stream",
     "text": [
      "k\n",
      "r\n",
      "s\n",
      "n\n",
      "a\n"
     ]
    }
   ],
   "source": [
    "str=\"krsna\"\n",
    "\n",
    "for i in str:\n",
    "    print(i)"
   ]
  },
  {
   "cell_type": "code",
   "execution_count": 18,
   "metadata": {},
   "outputs": [
    {
     "name": "stdout",
     "output_type": "stream",
     "text": [
      "0\n",
      "1\n",
      "2\n",
      "3\n",
      "4\n",
      "5\n",
      "6\n",
      "7\n",
      "8\n"
     ]
    }
   ],
   "source": [
    "c=0\n",
    "while c<9:\n",
    "    print(c)\n",
    "    c=c+1"
   ]
  },
  {
   "cell_type": "code",
   "execution_count": 24,
   "metadata": {},
   "outputs": [
    {
     "name": "stdout",
     "output_type": "stream",
     "text": [
      "0\n",
      "1\n",
      "2\n",
      "3\n",
      "4\n"
     ]
    }
   ],
   "source": [
    "for i in range(10):\n",
    "    if i==5:\n",
    "     break\n",
    "    print(i)"
   ]
  },
  {
   "cell_type": "code",
   "execution_count": 27,
   "metadata": {},
   "outputs": [
    {
     "name": "stdout",
     "output_type": "stream",
     "text": [
      "1\n",
      "3\n",
      "5\n",
      "7\n",
      "9\n"
     ]
    }
   ],
   "source": [
    "for i in range(10):\n",
    "    if i%2==0:\n",
    "        continue\n",
    "    print(i)"
   ]
  },
  {
   "cell_type": "code",
   "execution_count": 33,
   "metadata": {},
   "outputs": [
    {
     "name": "stdout",
     "output_type": "stream",
     "text": [
      "0\n",
      "1\n",
      "2\n",
      "the number is 3\n",
      "3\n",
      "4\n",
      "5\n",
      "6\n",
      "7\n",
      "8\n",
      "9\n"
     ]
    }
   ],
   "source": [
    "for i in range(10):\n",
    "    if(i==3):\n",
    "     print(\"the number is 3\")\n",
    "     pass\n",
    "    print(i)"
   ]
  },
  {
   "cell_type": "code",
   "execution_count": 3,
   "metadata": {},
   "outputs": [
    {
     "name": "stdout",
     "output_type": "stream",
     "text": [
      "the val of i is {i} and the val of j is {j}\n",
      "the val of i is {i} and the val of j is {j}\n",
      "the val of i is {i} and the val of j is {j}\n",
      "the val of i is {i} and the val of j is {j}\n",
      "the val of i is {i} and the val of j is {j}\n",
      "the val of i is {i} and the val of j is {j}\n",
      "the val of i is {i} and the val of j is {j}\n",
      "the val of i is {i} and the val of j is {j}\n",
      "the val of i is {i} and the val of j is {j}\n",
      "the val of i is {i} and the val of j is {j}\n",
      "the val of i is {i} and the val of j is {j}\n",
      "the val of i is {i} and the val of j is {j}\n",
      "the val of i is {i} and the val of j is {j}\n",
      "the val of i is {i} and the val of j is {j}\n",
      "the val of i is {i} and the val of j is {j}\n",
      "the val of i is {i} and the val of j is {j}\n",
      "the val of i is {i} and the val of j is {j}\n",
      "the val of i is {i} and the val of j is {j}\n",
      "the val of i is {i} and the val of j is {j}\n",
      "the val of i is {i} and the val of j is {j}\n",
      "the val of i is {i} and the val of j is {j}\n",
      "the val of i is {i} and the val of j is {j}\n",
      "the val of i is {i} and the val of j is {j}\n",
      "the val of i is {i} and the val of j is {j}\n",
      "the val of i is {i} and the val of j is {j}\n"
     ]
    }
   ],
   "source": [
    "for i in range (5):\n",
    "    for j in range (5):\n",
    "        print(\"the val of i is {i} and the val of j is {j}\")"
   ]
  },
  {
   "cell_type": "code",
   "execution_count": 5,
   "metadata": {},
   "outputs": [
    {
     "name": "stdout",
     "output_type": "stream",
     "text": [
      "sum of n natuteal number is  55\n"
     ]
    }
   ],
   "source": [
    "n=10\n",
    "c=0\n",
    "sum=0\n",
    "\n",
    "while c<=n:\n",
    " sum=sum+c\n",
    " c=c+1\n",
    "\n",
    "print(\"sum of n natuteal number is \",sum)"
   ]
  },
  {
   "cell_type": "code",
   "execution_count": null,
   "metadata": {},
   "outputs": [],
   "source": []
  }
 ],
 "metadata": {
  "kernelspec": {
   "display_name": "Python 3",
   "language": "python",
   "name": "python3"
  },
  "language_info": {
   "codemirror_mode": {
    "name": "ipython",
    "version": 3
   },
   "file_extension": ".py",
   "mimetype": "text/x-python",
   "name": "python",
   "nbconvert_exporter": "python",
   "pygments_lexer": "ipython3",
   "version": "3.13.2"
  }
 },
 "nbformat": 4,
 "nbformat_minor": 2
}
