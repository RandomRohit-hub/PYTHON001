{
 "cells": [
  {
   "cell_type": "code",
   "execution_count": 2,
   "metadata": {},
   "outputs": [
    {
     "name": "stdout",
     "output_type": "stream",
     "text": [
      "heheheheh\n"
     ]
    }
   ],
   "source": [
    "## read a whole file\n",
    "\n",
    "with open('example.txt','r') as file:\n",
    "    content = file.read()\n",
    "    print(content)"
   ]
  },
  {
   "cell_type": "code",
   "execution_count": null,
   "metadata": {},
   "outputs": [
    {
     "name": "stdout",
     "output_type": "stream",
     "text": [
      "heheheheh\n",
      "dsdsdsdsds\n",
      "asasasasasa\n",
      "swssws\n"
     ]
    }
   ],
   "source": [
    "# read file line by line\n",
    "\n",
    "with open('example.txt','r') as file:\n",
    "    for line in file:\n",
    "        print(line.strip())## strip remove new line character"
   ]
  },
  {
   "cell_type": "code",
   "execution_count": 8,
   "metadata": {},
   "outputs": [],
   "source": [
    "##writting a file (overwritting)\n",
    "\n",
    "with open('example.txt','w') as file:\n",
    " file.write('hello jnl\\n')\n",
    " file.write('this is a new line\\n')"
   ]
  },
  {
   "cell_type": "code",
   "execution_count": 11,
   "metadata": {},
   "outputs": [],
   "source": [
    "## writting a file(without overwritting)  append\n",
    "\n",
    "with open('example.txt','a') as file:\n",
    " file.write ('append taking place')"
   ]
  },
  {
   "cell_type": "code",
   "execution_count": 12,
   "metadata": {},
   "outputs": [],
   "source": [
    "## writting a list of lines in file\n",
    "\n",
    "line=['first line\\n','second line\\n','third\\n']\n",
    "with open('example.txt','a') as file:\n",
    "    file.writelines(line)"
   ]
  },
  {
   "cell_type": "code",
   "execution_count": 14,
   "metadata": {},
   "outputs": [],
   "source": [
    "## using bin files\n",
    "\n",
    "##writting as binary files\n",
    "\n",
    "data=b'\\x00\\x01\\x02\\x03\\x04'\n",
    "\n",
    "with open ('example.bin','wb') as file:\n",
    "    file.write(data)"
   ]
  },
  {
   "cell_type": "code",
   "execution_count": 15,
   "metadata": {},
   "outputs": [
    {
     "name": "stdout",
     "output_type": "stream",
     "text": [
      "b'\\x00\\x01\\x02\\x03\\x04'\n"
     ]
    }
   ],
   "source": [
    "## read binary file\n",
    "\n",
    "with open('example.bin','br') as file:\n",
    "    c=file.read()\n",
    "    print(c)"
   ]
  },
  {
   "cell_type": "code",
   "execution_count": 16,
   "metadata": {},
   "outputs": [],
   "source": [
    "## read the content from sourse text file and write it to a destination text file\n",
    "\n",
    "with open('example.txt','r') as source_file:\n",
    "    c=source_file.read()\n",
    "\n",
    "with open('destinatin.txt','w') as destination_file:\n",
    "    destination_file.write(c)    "
   ]
  },
  {
   "cell_type": "code",
   "execution_count": 20,
   "metadata": {},
   "outputs": [
    {
     "name": "stdout",
     "output_type": "stream",
     "text": [
      "lines:3, words:6,character38\n"
     ]
    }
   ],
   "source": [
    "def count_text_file(file_path):\n",
    "    with open(file_path,'r') as file:\n",
    "        lines=file.readlines()\n",
    "        line_count=len(lines)\n",
    "        word_count=sum(len(line.split())for line in lines)\n",
    "        char_count=sum(len(line)for line in lines)\n",
    "    return line_count,word_count,char_count\n",
    "\n",
    "\n",
    "file.path=\"example.txt\"\n",
    "line,words,chararcter=count_text_file(file.path)\n",
    "print(f'lines:{line}, words:{words},character{chararcter}')\n"
   ]
  },
  {
   "cell_type": "code",
   "execution_count": 19,
   "metadata": {},
   "outputs": [
    {
     "name": "stdout",
     "output_type": "stream",
     "text": [
      "heheheheh\n"
     ]
    }
   ],
   "source": [
    "with open('example.txt','w') as file:\n",
    "    file.write('hello world\\n')\n",
    "    file.write('hello world2\\n')\n",
    "    file.write('hello world3\\n')\n",
    "\n",
    "    file.seek(0)\n",
    "    print(content)"
   ]
  },
  {
   "cell_type": "code",
   "execution_count": null,
   "metadata": {},
   "outputs": [],
   "source": []
  }
 ],
 "metadata": {
  "kernelspec": {
   "display_name": "Python 3",
   "language": "python",
   "name": "python3"
  },
  "language_info": {
   "codemirror_mode": {
    "name": "ipython",
    "version": 3
   },
   "file_extension": ".py",
   "mimetype": "text/x-python",
   "name": "python",
   "nbconvert_exporter": "python",
   "pygments_lexer": "ipython3",
   "version": "3.13.2"
  }
 },
 "nbformat": 4,
 "nbformat_minor": 2
}
