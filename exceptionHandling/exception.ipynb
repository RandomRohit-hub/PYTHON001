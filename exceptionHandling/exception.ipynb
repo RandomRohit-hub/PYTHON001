{
 "cells": [
  {
   "cell_type": "code",
   "execution_count": 1,
   "metadata": {},
   "outputs": [
    {
     "name": "stdout",
     "output_type": "stream",
     "text": [
      "hey the variable has not been assined \n"
     ]
    }
   ],
   "source": [
    "## exceptional handling try ,except block\n",
    "\n",
    "try:\n",
    "    a=b\n",
    "except:\n",
    "    print(\"hey the variable has not been assined \")    "
   ]
  },
  {
   "cell_type": "code",
   "execution_count": 2,
   "metadata": {},
   "outputs": [
    {
     "name": "stdout",
     "output_type": "stream",
     "text": [
      "name 'b' is not defined\n"
     ]
    }
   ],
   "source": [
    "## exceptional handling try ,except block\n",
    "\n",
    "try:\n",
    "    a=b\n",
    "except NameError as ex:\n",
    "    print(ex)    "
   ]
  },
  {
   "cell_type": "code",
   "execution_count": 4,
   "metadata": {},
   "outputs": [
    {
     "name": "stdout",
     "output_type": "stream",
     "text": [
      "division by zero\n",
      "enter correct number\n"
     ]
    }
   ],
   "source": [
    "try:\n",
    " result=1/0\n",
    "except ZeroDivisionError as ex:\n",
    " print(ex)\n",
    " print ('enter correct number')\n"
   ]
  },
  {
   "cell_type": "code",
   "execution_count": 6,
   "metadata": {},
   "outputs": [
    {
     "name": "stdout",
     "output_type": "stream",
     "text": [
      "name 'b' is not defined\n"
     ]
    }
   ],
   "source": [
    "try:\n",
    " result=1/2\n",
    " a=b\n",
    "except ZeroDivisionError as ex:\n",
    " print(ex)\n",
    " print ('enter correct number')\n",
    "\n",
    "except Exception as ex1:\n",
    " print(ex1)\n"
   ]
  },
  {
   "cell_type": "code",
   "execution_count": 9,
   "metadata": {},
   "outputs": [],
   "source": [
    "try:\n",
    "    num=int (input('enter num'))\n",
    "    result=10/num\n",
    "except ValueError:\n",
    "    print('not valid value')\n",
    "except ZeroDivisionError:\n",
    "    print('enter n greater than zero') \n",
    "except Exception as ex:\n",
    "    print(ex)           "
   ]
  },
  {
   "cell_type": "code",
   "execution_count": 11,
   "metadata": {},
   "outputs": [
    {
     "name": "stdout",
     "output_type": "stream",
     "text": [
      "the result is 0.45454545454545453\n"
     ]
    }
   ],
   "source": [
    "## try,except ,else\n",
    "\n",
    "try:\n",
    "    n=int(input('enter num'))\n",
    "    result=10/n\n",
    "except ValueError:\n",
    "    print('not valid value')\n",
    "except ZeroDivisionError:\n",
    "    print('enter n greater than zero') \n",
    "except Exception as ex:\n",
    "    print(ex) \n",
    "else:\n",
    "    print(f'the result is {result}')    \n"
   ]
  },
  {
   "cell_type": "code",
   "execution_count": 13,
   "metadata": {},
   "outputs": [
    {
     "name": "stdout",
     "output_type": "stream",
     "text": [
      "the result is 0.30303030303030304\n",
      "this is finally block\n"
     ]
    }
   ],
   "source": [
    "## finally\n",
    "try:\n",
    "    n=int(input('enter num'))\n",
    "    result=10/n\n",
    "except ValueError:\n",
    "    print('not valid value')\n",
    "except ZeroDivisionError:\n",
    "    print('enter n greater than zero') \n",
    "except Exception as ex:\n",
    "    print(ex) \n",
    "else:\n",
    "    print(f'the result is {result}')    \n",
    "finally:\n",
    "    print('this is finally block')\n"
   ]
  },
  {
   "cell_type": "code",
   "execution_count": 17,
   "metadata": {},
   "outputs": [
    {
     "name": "stdout",
     "output_type": "stream",
     "text": [
      "name 'b' is not defined\n",
      "file closed\n"
     ]
    }
   ],
   "source": [
    "## file handling and exception handling\n",
    "\n",
    "\n",
    "try:\n",
    "    file=open('example1.txt','r')\n",
    "    content=file.read()\n",
    "    a=b\n",
    "    print(content)\n",
    "\n",
    "except FileNotFoundError:\n",
    "    print('the file not acccesed')\n",
    "except Exception as e:\n",
    "    print(e)\n",
    "\n",
    "finally:\n",
    "    if 'file' in locals() or not file.closed():\n",
    "        file.close()\n",
    "        print('file closed')"
   ]
  },
  {
   "cell_type": "code",
   "execution_count": null,
   "metadata": {},
   "outputs": [],
   "source": []
  },
  {
   "cell_type": "code",
   "execution_count": null,
   "metadata": {},
   "outputs": [],
   "source": []
  }
 ],
 "metadata": {
  "kernelspec": {
   "display_name": "Python 3",
   "language": "python",
   "name": "python3"
  },
  "language_info": {
   "codemirror_mode": {
    "name": "ipython",
    "version": 3
   },
   "file_extension": ".py",
   "mimetype": "text/x-python",
   "name": "python",
   "nbconvert_exporter": "python",
   "pygments_lexer": "ipython3",
   "version": "3.13.2"
  }
 },
 "nbformat": 4,
 "nbformat_minor": 2
}
