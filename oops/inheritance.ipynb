{
 "cells": [
  {
   "cell_type": "code",
   "execution_count": 3,
   "metadata": {},
   "outputs": [],
   "source": [
    "## inheritance\n",
    "## parent class\n",
    "\n",
    "class car:\n",
    "    def __init__(self,window,door,enginetype):\n",
    "        self.window=window\n",
    "        self.door=door\n",
    "        self.enginetype=enginetype\n",
    "\n",
    "    def drive(self):\n",
    "        print(f\" the person will drive {self.enginetype}car\")    \n"
   ]
  },
  {
   "cell_type": "code",
   "execution_count": 4,
   "metadata": {},
   "outputs": [
    {
     "name": "stdout",
     "output_type": "stream",
     "text": [
      " the person will drive petrolcar\n",
      "None\n"
     ]
    }
   ],
   "source": [
    "car1=car(4,5,\"petrol\")\n",
    "print(car1.drive())"
   ]
  },
  {
   "cell_type": "code",
   "execution_count": 5,
   "metadata": {},
   "outputs": [],
   "source": [
    "class Car:\n",
    "    def __init__(self, window, door, enginetype):\n",
    "        self.window = window\n",
    "        self.door = door\n",
    "        self.enginetype = enginetype\n",
    "\n",
    "\n",
    "class Tesla(Car):\n",
    "    def __init__(self, window, door, enginetype, is_selfdrive):\n",
    "        super().__init__(window, door, enginetype)  # super is used to call init from car class\n",
    "        self.is_selfdrive = is_selfdrive\n",
    "\n",
    "    def selfdrive(self):\n",
    "        print(f\"Tesla supports {self.is_selfdrive}\")\n"
   ]
  },
  {
   "cell_type": "code",
   "execution_count": 6,
   "metadata": {},
   "outputs": [
    {
     "name": "stdout",
     "output_type": "stream",
     "text": [
      "Tesla supports True\n"
     ]
    }
   ],
   "source": [
    "tesla1=Tesla(4,5,\"electric\",True)\n",
    "tesla1.selfdrive()"
   ]
  },
  {
   "cell_type": "code",
   "execution_count": 9,
   "metadata": {},
   "outputs": [
    {
     "name": "stdout",
     "output_type": "stream",
     "text": [
      "Tesla supports True\n"
     ]
    }
   ],
   "source": [
    "tesla1.selfdrive()"
   ]
  },
  {
   "cell_type": "code",
   "execution_count": 11,
   "metadata": {},
   "outputs": [
    {
     "name": "stdout",
     "output_type": "stream",
     "text": [
      "subclasses must implement  this method\n",
      "None\n",
      "owner:rody\n"
     ]
    }
   ],
   "source": [
    "## multiple inhertitance\n",
    "\n",
    "##when a class inherit from multiple classes\n",
    "\n",
    "##base class 1\n",
    "class animal:\n",
    "    def __init__(self,name):\n",
    "        self.name=name\n",
    "\n",
    "    def speak(self):\n",
    "        print(\"subclasses must implement  this method\")\n",
    "\n",
    "\n",
    "##base class 2\n",
    "\n",
    "class pet:\n",
    "    def __init__(self,owner):\n",
    "        self.owner=owner\n",
    "\n",
    "\n",
    "\n",
    "## derived class\n",
    "\n",
    "class dog(animal,pet):\n",
    "    def __init__(self, name,owner):\n",
    "        animal.__init__(self,name)\n",
    "        pet.__init__(self,owner)\n",
    "\n",
    "\n",
    "        def speak(self):\n",
    "            return f\"{self,name} say woof\"\n",
    "        \n",
    "\n",
    "##create an object\n",
    "\n",
    "dog=dog(\"buddy\",\"rody\")\n",
    "print(dog.speak())\n",
    "print(f\"owner:{dog.owner}\")\n"
   ]
  },
  {
   "cell_type": "code",
   "execution_count": null,
   "metadata": {},
   "outputs": [],
   "source": []
  }
 ],
 "metadata": {
  "kernelspec": {
   "display_name": "Python 3",
   "language": "python",
   "name": "python3"
  },
  "language_info": {
   "codemirror_mode": {
    "name": "ipython",
    "version": 3
   },
   "file_extension": ".py",
   "mimetype": "text/x-python",
   "name": "python",
   "nbconvert_exporter": "python",
   "pygments_lexer": "ipython3",
   "version": "3.13.2"
  }
 },
 "nbformat": 4,
 "nbformat_minor": 2
}
