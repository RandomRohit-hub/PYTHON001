{
 "cells": [
  {
   "cell_type": "code",
   "execution_count": 1,
   "metadata": {},
   "outputs": [],
   "source": [
    "##method overloading"
   ]
  },
  {
   "cell_type": "code",
   "execution_count": null,
   "metadata": {},
   "outputs": [
    {
     "name": "stdout",
     "output_type": "stream",
     "text": [
      "woof!\n",
      "meow \n",
      "woof!\n"
     ]
    }
   ],
   "source": [
    "class animal:\n",
    "    def speak(self):\n",
    "        return \"sound of animal\"\n",
    "    \n",
    "## derived class\n",
    "class Dog(animal):\n",
    "    def speak(self):\n",
    "        return \"woof!\"\n",
    "    \n",
    "\n",
    "\n",
    "class Cat(animal):\n",
    "        def speak(self):\n",
    "            return 'meow '\n",
    "        \n",
    "\n",
    "def animal_speak(animal):\n",
    "     print(animal.speak())        \n",
    "\n",
    "dog=Dog()\n",
    "print(dog.speak())       \n",
    "cat=Cat()\n",
    "print(cat.speak())  \n",
    "animal_speak(dog)  "
   ]
  },
  {
   "cell_type": "code",
   "execution_count": 6,
   "metadata": {},
   "outputs": [
    {
     "name": "stdout",
     "output_type": "stream",
     "text": [
      "the area is 20\n",
      "the area is 28.259999999999998\n"
     ]
    }
   ],
   "source": [
    "##polymorphism with functions and methods\n",
    "\n",
    "class shape:\n",
    "    def area(self):\n",
    "        return \"area of shape\"\n",
    "    \n",
    "class Rectangle(shape):\n",
    "    def __init__(self,width,height):\n",
    "        self.width=width\n",
    "        self.height=height\n",
    "\n",
    "    def area(self):\n",
    "        return self.width*self.height     \n",
    "\n",
    "class Circle(shape):\n",
    "        def __init__(self,radius):\n",
    "            self.radius=radius\n",
    "\n",
    "        def area(self):\n",
    "            return 3.14*self.radius*self.radius\n",
    "\n",
    " ##function that demonsatrate polymorphism\n",
    "\n",
    "def print_area(shape):\n",
    "    print(f'the area is {shape.area()}')\n",
    "\n",
    "rectangle=Rectangle(4,5)\n",
    "circle=Circle(3)\n",
    "\n",
    "\n",
    "print_area(rectangle)\n",
    "print_area(circle )"
   ]
  },
  {
   "cell_type": "markdown",
   "metadata": {},
   "source": [
    "#### abstract base class\n"
   ]
  },
  {
   "cell_type": "code",
   "execution_count": 7,
   "metadata": {},
   "outputs": [
    {
     "name": "stdout",
     "output_type": "stream",
     "text": [
      "engine starts\n"
     ]
    }
   ],
   "source": [
    "from abc import ABC, abstractmethod\n",
    "\n",
    "class vehicle(ABC):\n",
    "    @abstractmethod\n",
    "    def start_engine(self):\n",
    "        pass\n",
    "\n",
    "    ## derived\n",
    "\n",
    "class Car(vehicle):\n",
    "    def start_engine(self):\n",
    "        return \"engine starts\"\n",
    "    \n",
    "\n",
    "class bike(vehicle):\n",
    "    def start_engine(self):\n",
    "        return \"bike engine starts\" \n",
    "\n",
    "##funct that demonstrate polym\n",
    "def start_vehicle(vehicle):\n",
    "    print(vehicle.start_engine())       \n",
    "\n",
    "\n",
    "  ##create obj for class for car and bike\n",
    "\n",
    "car=Car()\n",
    "motorcycle=bike()\n",
    "start_vehicle(car)\n",
    "\n",
    "  "
   ]
  },
  {
   "cell_type": "markdown",
   "metadata": {},
   "source": [
    "conclusion\n",
    "\n",
    "polymorphism is a powerful feature of oop that allow for flexibility and integration in code design it enable a single funct to handle onject of diff classes each with its own implementation of method by understanding and applying polymorphism you can create more extensible and maintainable obj oriented prog"
   ]
  },
  {
   "cell_type": "markdown",
   "metadata": {},
   "source": []
  }
 ],
 "metadata": {
  "kernelspec": {
   "display_name": "Python 3",
   "language": "python",
   "name": "python3"
  },
  "language_info": {
   "codemirror_mode": {
    "name": "ipython",
    "version": 3
   },
   "file_extension": ".py",
   "mimetype": "text/x-python",
   "name": "python",
   "nbconvert_exporter": "python",
   "pygments_lexer": "ipython3",
   "version": "3.13.2"
  }
 },
 "nbformat": 4,
 "nbformat_minor": 2
}
