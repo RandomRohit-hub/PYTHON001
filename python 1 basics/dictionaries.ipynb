{
 "cells": [
  {
   "cell_type": "code",
   "execution_count": 4,
   "metadata": {},
   "outputs": [
    {
     "data": {
      "text/plain": [
       "{}"
      ]
     },
     "execution_count": 4,
     "metadata": {},
     "output_type": "execute_result"
    }
   ],
   "source": [
    "e_dict=dict()\n",
    "e_dict"
   ]
  },
  {
   "cell_type": "code",
   "execution_count": 5,
   "metadata": {},
   "outputs": [
    {
     "data": {
      "text/plain": [
       "{'name': 'krishna', 'age': 32, 'grade': 24}"
      ]
     },
     "execution_count": 5,
     "metadata": {},
     "output_type": "execute_result"
    }
   ],
   "source": [
    "student={\"name\":\"krishna\",\"age\":32,\"grade\":24  }\n",
    "student"
   ]
  },
  {
   "cell_type": "code",
   "execution_count": null,
   "metadata": {},
   "outputs": [
    {
     "name": "stdout",
     "output_type": "stream",
     "text": [
      "big\n"
     ]
    }
   ],
   "source": [
    "#error\n",
    "\n",
    "student={\"name\":\"krsna\",\"age\":32,\"grade\":\"big\"}\n",
    "student\n",
    "print(student[\"grade\"])\n"
   ]
  },
  {
   "cell_type": "code",
   "execution_count": 11,
   "metadata": {},
   "outputs": [
    {
     "name": "stdout",
     "output_type": "stream",
     "text": [
      "big\n",
      "32\n"
     ]
    }
   ],
   "source": [
    "student={\"name\":\"krsna\",\"age\":32,\"grade\":\"big\"}\n",
    "\n",
    "print(student.get(\"grade\"))\n",
    "print(student.get(\"age\"))"
   ]
  },
  {
   "cell_type": "code",
   "execution_count": 12,
   "metadata": {},
   "outputs": [
    {
     "name": "stdout",
     "output_type": "stream",
     "text": [
      "{'name': 'krsna', 'age': 32, 'grade': 'big'}\n"
     ]
    }
   ],
   "source": [
    "print(student)"
   ]
  },
  {
   "cell_type": "code",
   "execution_count": 13,
   "metadata": {},
   "outputs": [
    {
     "name": "stdout",
     "output_type": "stream",
     "text": [
      "{'name': 'krsna', 'age': '32', 'grade': 'big'}\n",
      "{'name': 'krsna', 'age': '32', 'grade': 'big', 'address': 'india'}\n"
     ]
    }
   ],
   "source": [
    "student['age']='32'\n",
    "print(student)\n",
    "\n",
    "student['address']='india'\n",
    "print(student)\n"
   ]
  },
  {
   "cell_type": "code",
   "execution_count": 14,
   "metadata": {},
   "outputs": [
    {
     "name": "stdout",
     "output_type": "stream",
     "text": [
      "{'name': 'krsna', 'age': '32', 'address': 'india'}\n"
     ]
    }
   ],
   "source": [
    "del student['grade']\n",
    "print(student)"
   ]
  },
  {
   "cell_type": "code",
   "execution_count": 15,
   "metadata": {},
   "outputs": [
    {
     "name": "stdout",
     "output_type": "stream",
     "text": [
      "dict_keys(['name', 'age', 'address'])\n",
      "dict_values(['krsna', '32', 'india'])\n",
      "dict_items([('name', 'krsna'), ('age', '32'), ('address', 'india')])\n"
     ]
    }
   ],
   "source": [
    "keys=student.keys()\n",
    "print(keys)\n",
    "\n",
    "values=student.values()\n",
    "print(values)\n",
    "\n",
    "items=student.items()\n",
    "print(items)"
   ]
  },
  {
   "cell_type": "code",
   "execution_count": 16,
   "metadata": {},
   "outputs": [],
   "source": [
    " #nested dictionary"
   ]
  },
  {
   "cell_type": "code",
   "execution_count": 17,
   "metadata": {},
   "outputs": [
    {
     "name": "stdout",
     "output_type": "stream",
     "text": [
      "{'stu1': {'name': 'krsna', 'age': '32'}, 'stu2': {'name': 'vro', 'age': '32'}}\n"
     ]
    }
   ],
   "source": [
    "student={\n",
    "    \"stu1\":{\"name\":\"krsna\",\"age\":'32'},\n",
    "    \"stu2\":{\"name\":\"vro\",\"age\":'32'}\n",
    "}\n",
    "print(student )"
   ]
  },
  {
   "cell_type": "code",
   "execution_count": 18,
   "metadata": {},
   "outputs": [
    {
     "name": "stdout",
     "output_type": "stream",
     "text": [
      "vro\n",
      "32\n"
     ]
    }
   ],
   "source": [
    "#access nested dictionary elements\n",
    "\n",
    "print(student[\"stu2\"]['name'])\n",
    "print(student[\"stu2\"]['age'])"
   ]
  },
  {
   "cell_type": "code",
   "execution_count": 25,
   "metadata": {},
   "outputs": [
    {
     "data": {
      "text/plain": [
       "dict_items([('stu1', {'name': 'krsna', 'age': '32'}), ('stu2', {'name': 'vro', 'age': '32'})])"
      ]
     },
     "execution_count": 25,
     "metadata": {},
     "output_type": "execute_result"
    }
   ],
   "source": [
    "student.items()"
   ]
  },
  {
   "cell_type": "code",
   "execution_count": 29,
   "metadata": {},
   "outputs": [
    {
     "name": "stdout",
     "output_type": "stream",
     "text": [
      "stu1: {'name': 'krsna', 'age': '32'}\n",
      "name, krsna\n",
      "age, 32\n",
      "stu2: {'name': 'vro', 'age': '32'}\n",
      "name, vro\n",
      "age, 32\n"
     ]
    }
   ],
   "source": [
    "# Iteration over nested dictionaries\n",
    "\n",
    "for stu_id, stu_info in student.items():\n",
    "    print(f'{stu_id}: {stu_info}')\n",
    "    for key, value in stu_info.items():\n",
    "        print(f'{key}, {value}')\n"
   ]
  },
  {
   "cell_type": "code",
   "execution_count": 30,
   "metadata": {},
   "outputs": [
    {
     "name": "stdout",
     "output_type": "stream",
     "text": [
      "{0: 0, 1: 1, 2: 4, 3: 9, 4: 16}\n"
     ]
    }
   ],
   "source": [
    "##dictionary compregension\n",
    "\n",
    "\n",
    "sq={x:x**2 for x in range(5)}\n",
    "print(sq)  #output: <generator object <genexpr> at 0x000002"
   ]
  },
  {
   "cell_type": "code",
   "execution_count": 32,
   "metadata": {},
   "outputs": [
    {
     "name": "stdout",
     "output_type": "stream",
     "text": [
      "{0: 0, 2: 4, 4: 16, 6: 36, 8: 64}\n"
     ]
    }
   ],
   "source": [
    "## conditional dictionary compregension\n",
    "\n",
    "\n",
    "even={x:x**2 for x in range(10) if x%2==0}\n",
    "print(even)  #output: <generator object <genexpr> at 0x000002"
   ]
  },
  {
   "cell_type": "code",
   "execution_count": 36,
   "metadata": {},
   "outputs": [
    {
     "name": "stdout",
     "output_type": "stream",
     "text": [
      "{1: 3, 2: 2, 3: 2, 4: 4, 5: 7}\n",
      "\n"
     ]
    }
   ],
   "source": [
    "#use dictionary to count the frequency\n",
    "\n",
    "\n",
    "n=[1,1,1,2,2,3,3,4,4,4,4,5,5,5,5,5,5,5]\n",
    "freq={}\n",
    "\n",
    "for number in n:\n",
    "    if number in freq:\n",
    "        freq[number]+=1\n",
    "    else:\n",
    "         freq[number]=1\n",
    "print(freq)\n",
    "print(\"\")\n",
    "\n",
    "\n"
   ]
  },
  {
   "cell_type": "code",
   "execution_count": 38,
   "metadata": {},
   "outputs": [
    {
     "name": "stdout",
     "output_type": "stream",
     "text": [
      "{'a': 1, 'b': 2, 'c': 3, 'd': 4}\n"
     ]
    }
   ],
   "source": [
    "## merge 2 dictionaries\n",
    "\n",
    "d1={\"a\":1,\"b\":2}\n",
    "d2={\"c\":3,\"d\":4}\n",
    "\n",
    "merge={**d1 ,**d2}\n",
    "\n",
    "print(merge)"
   ]
  },
  {
   "cell_type": "code",
   "execution_count": null,
   "metadata": {},
   "outputs": [],
   "source": []
  },
  {
   "cell_type": "code",
   "execution_count": null,
   "metadata": {},
   "outputs": [],
   "source": []
  }
 ],
 "metadata": {
  "kernelspec": {
   "display_name": "Python 3",
   "language": "python",
   "name": "python3"
  },
  "language_info": {
   "codemirror_mode": {
    "name": "ipython",
    "version": 3
   },
   "file_extension": ".py",
   "mimetype": "text/x-python",
   "name": "python",
   "nbconvert_exporter": "python",
   "pygments_lexer": "ipython3",
   "version": "3.13.2"
  }
 },
 "nbformat": 4,
 "nbformat_minor": 2
}
